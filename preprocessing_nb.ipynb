{
 "cells": [
  {
   "cell_type": "code",
   "execution_count": 1,
   "metadata": {},
   "outputs": [],
   "source": [
    "import pandas as pd\n",
    "import re\n",
    "import string\n",
    "import demoji\n",
    "import contractions\n",
    "from nltk.corpus import stopwords\n",
    "from nltk.tokenize import TweetTokenizer\n",
    "from nltk.stem import PorterStemmer\n",
    "from nltk import pos_tag, ne_chunk\n",
    "from nltk.tree import Tree\n"
   ]
  },
  {
   "cell_type": "code",
   "execution_count": 2,
   "metadata": {},
   "outputs": [],
   "source": [
    "# Load your dataset\n",
    "df = pd.read_csv(\"twitter_sentiment_data.csv\")"
   ]
  },
  {
   "cell_type": "code",
   "execution_count": 3,
   "metadata": {},
   "outputs": [],
   "source": [
    "# Step 1: Remove Duplicates\n",
    "df = df.drop_duplicates(subset=['message'])"
   ]
  },
  {
   "cell_type": "code",
   "execution_count": 4,
   "metadata": {},
   "outputs": [],
   "source": [
    "\n",
    "# Step 2: Handling Retweets\n",
    "df['is_retweet'] = df['message'].apply(lambda x: x.startswith('RT'))\n"
   ]
  },
  {
   "cell_type": "code",
   "execution_count": 5,
   "metadata": {},
   "outputs": [],
   "source": [
    "# Step 3: Text Cleaning\n",
    "def clean_text(text):\n",
    "    # Handle links separately\n",
    "    links = re.findall(r'http\\S+', text)\n",
    "    text = re.sub(r'http\\S+', 'link_url', text)\n",
    "    # Remove emojis\n",
    "    text = demoji.replace_with_desc(text, sep=' ')\n",
    "    # Remove special characters and numbers\n",
    "    text = re.sub('[^A-Za-z]+', ' ', text)\n",
    "    # Convert to lowercase\n",
    "    text = text.lower().strip()\n",
    "    return text, links\n",
    "\n",
    "df[['cleaned_message', 'links']] = df['message'].apply(clean_text).apply(pd.Series)\n"
   ]
  },
  {
   "cell_type": "code",
   "execution_count": 6,
   "metadata": {},
   "outputs": [],
   "source": [
    "# Step 4: Expand Contractions\n",
    "df['expanded_message'] = df['cleaned_message'].apply(lambda x: contractions.fix(x))\n"
   ]
  },
  {
   "cell_type": "code",
   "execution_count": 7,
   "metadata": {},
   "outputs": [],
   "source": [
    "\n",
    "# Step 5: Advanced Tokenization\n",
    "tokenizer = TweetTokenizer(preserve_case=False, strip_handles=True, reduce_len=True)\n",
    "df['tokenized_message'] = df['expanded_message'].apply(tokenizer.tokenize)\n"
   ]
  },
  {
   "cell_type": "code",
   "execution_count": 8,
   "metadata": {},
   "outputs": [],
   "source": [
    "# Step 6: Remove Stopwords and Punctuation\n",
    "stop_words = set(stopwords.words('english'))\n",
    "punctuation = set(string.punctuation)\n",
    "df['tokenized_message'] = df['tokenized_message'].apply(lambda x: [word for word in x if word not in stop_words and word not in punctuation])\n"
   ]
  },
  {
   "cell_type": "code",
   "execution_count": 10,
   "metadata": {},
   "outputs": [
    {
     "name": "stderr",
     "output_type": "stream",
     "text": [
      "[nltk_data] Downloading package averaged_perceptron_tagger to\n",
      "[nltk_data]     C:\\Users\\nirad\\AppData\\Roaming\\nltk_data...\n",
      "[nltk_data]   Unzipping taggers\\averaged_perceptron_tagger.zip.\n"
     ]
    }
   ],
   "source": [
    "# Step 7: Part-of-Speech Tagging and Named Entity Recognition\n",
    "import nltk\n",
    "nltk.download('averaged_perceptron_tagger')\n",
    "\n",
    "def preprocess_pos_ner(tokens):\n",
    "    pos_tags = pos_tag(tokens)\n",
    "    # Replace named entities with a common tag\n",
    "    pos_tags = [(tag[0], 'NE' if tag[1] == 'NNP' else tag[1]) for tag in pos_tags]\n",
    "    return pos_tags\n",
    "\n",
    "df['pos_tags'] = df['tokenized_message'].apply(preprocess_pos_ner)"
   ]
  },
  {
   "cell_type": "code",
   "execution_count": 12,
   "metadata": {},
   "outputs": [
    {
     "data": {
      "text/html": [
       "<div>\n",
       "<style scoped>\n",
       "    .dataframe tbody tr th:only-of-type {\n",
       "        vertical-align: middle;\n",
       "    }\n",
       "\n",
       "    .dataframe tbody tr th {\n",
       "        vertical-align: top;\n",
       "    }\n",
       "\n",
       "    .dataframe thead th {\n",
       "        text-align: right;\n",
       "    }\n",
       "</style>\n",
       "<table border=\"1\" class=\"dataframe\">\n",
       "  <thead>\n",
       "    <tr style=\"text-align: right;\">\n",
       "      <th></th>\n",
       "      <th>sentiment</th>\n",
       "      <th>message</th>\n",
       "      <th>tweetid</th>\n",
       "      <th>is_retweet</th>\n",
       "      <th>cleaned_message</th>\n",
       "      <th>links</th>\n",
       "      <th>expanded_message</th>\n",
       "      <th>tokenized_message</th>\n",
       "      <th>pos_tags</th>\n",
       "    </tr>\n",
       "  </thead>\n",
       "  <tbody>\n",
       "    <tr>\n",
       "      <th>0</th>\n",
       "      <td>-1</td>\n",
       "      <td>@tiniebeany climate change is an interesting h...</td>\n",
       "      <td>792927353886371840</td>\n",
       "      <td>False</td>\n",
       "      <td>tiniebeany climate change is an interesting hu...</td>\n",
       "      <td>[]</td>\n",
       "      <td>tiniebeany climate change is an interesting hu...</td>\n",
       "      <td>[tiniebeany, climate, change, interesting, hus...</td>\n",
       "      <td>[(tiniebeany, JJ), (climate, NN), (change, NN)...</td>\n",
       "    </tr>\n",
       "    <tr>\n",
       "      <th>1</th>\n",
       "      <td>1</td>\n",
       "      <td>RT @NatGeoChannel: Watch #BeforeTheFlood right...</td>\n",
       "      <td>793124211518832641</td>\n",
       "      <td>True</td>\n",
       "      <td>rt natgeochannel watch beforetheflood right he...</td>\n",
       "      <td>[https://t.co/LkDehj3tNn]</td>\n",
       "      <td>rt natgeochannel watch beforetheflood right he...</td>\n",
       "      <td>[rt, natgeochannel, watch, beforetheflood, rig...</td>\n",
       "      <td>[(rt, JJ), (natgeochannel, NNS), (watch, VBP),...</td>\n",
       "    </tr>\n",
       "    <tr>\n",
       "      <th>2</th>\n",
       "      <td>1</td>\n",
       "      <td>Fabulous! Leonardo #DiCaprio's film on #climat...</td>\n",
       "      <td>793124402388832256</td>\n",
       "      <td>False</td>\n",
       "      <td>fabulous leonardo dicaprio s film on climate c...</td>\n",
       "      <td>[https://t.co/7rV6BrmxjW]</td>\n",
       "      <td>fabulous leonardo dicaprio s film on climate c...</td>\n",
       "      <td>[fabulous, leonardo, dicaprio, film, climate, ...</td>\n",
       "      <td>[(fabulous, JJ), (leonardo, NN), (dicaprio, NN...</td>\n",
       "    </tr>\n",
       "    <tr>\n",
       "      <th>3</th>\n",
       "      <td>1</td>\n",
       "      <td>RT @Mick_Fanning: Just watched this amazing do...</td>\n",
       "      <td>793124635873275904</td>\n",
       "      <td>True</td>\n",
       "      <td>rt mick fanning just watched this amazing docu...</td>\n",
       "      <td>[https://t.co/kNSTE8K8im]</td>\n",
       "      <td>rt mick fanning just watched this amazing docu...</td>\n",
       "      <td>[rt, mick, fanning, watched, amazing, document...</td>\n",
       "      <td>[(rt, NN), (mick, NN), (fanning, VBG), (watche...</td>\n",
       "    </tr>\n",
       "    <tr>\n",
       "      <th>4</th>\n",
       "      <td>2</td>\n",
       "      <td>RT @cnalive: Pranita Biswasi, a Lutheran from ...</td>\n",
       "      <td>793125156185137153</td>\n",
       "      <td>True</td>\n",
       "      <td>rt cnalive pranita biswasi a lutheran from odi...</td>\n",
       "      <td>[]</td>\n",
       "      <td>rt cnalive pranita biswasi a lutheran from odi...</td>\n",
       "      <td>[rt, cnalive, pranita, biswasi, lutheran, odis...</td>\n",
       "      <td>[(rt, NN), (cnalive, JJ), (pranita, NN), (bisw...</td>\n",
       "    </tr>\n",
       "  </tbody>\n",
       "</table>\n",
       "</div>"
      ],
      "text/plain": [
       "   sentiment                                            message   \n",
       "0         -1  @tiniebeany climate change is an interesting h...  \\\n",
       "1          1  RT @NatGeoChannel: Watch #BeforeTheFlood right...   \n",
       "2          1  Fabulous! Leonardo #DiCaprio's film on #climat...   \n",
       "3          1  RT @Mick_Fanning: Just watched this amazing do...   \n",
       "4          2  RT @cnalive: Pranita Biswasi, a Lutheran from ...   \n",
       "\n",
       "              tweetid  is_retweet   \n",
       "0  792927353886371840       False  \\\n",
       "1  793124211518832641        True   \n",
       "2  793124402388832256       False   \n",
       "3  793124635873275904        True   \n",
       "4  793125156185137153        True   \n",
       "\n",
       "                                     cleaned_message   \n",
       "0  tiniebeany climate change is an interesting hu...  \\\n",
       "1  rt natgeochannel watch beforetheflood right he...   \n",
       "2  fabulous leonardo dicaprio s film on climate c...   \n",
       "3  rt mick fanning just watched this amazing docu...   \n",
       "4  rt cnalive pranita biswasi a lutheran from odi...   \n",
       "\n",
       "                       links   \n",
       "0                         []  \\\n",
       "1  [https://t.co/LkDehj3tNn]   \n",
       "2  [https://t.co/7rV6BrmxjW]   \n",
       "3  [https://t.co/kNSTE8K8im]   \n",
       "4                         []   \n",
       "\n",
       "                                    expanded_message   \n",
       "0  tiniebeany climate change is an interesting hu...  \\\n",
       "1  rt natgeochannel watch beforetheflood right he...   \n",
       "2  fabulous leonardo dicaprio s film on climate c...   \n",
       "3  rt mick fanning just watched this amazing docu...   \n",
       "4  rt cnalive pranita biswasi a lutheran from odi...   \n",
       "\n",
       "                                   tokenized_message   \n",
       "0  [tiniebeany, climate, change, interesting, hus...  \\\n",
       "1  [rt, natgeochannel, watch, beforetheflood, rig...   \n",
       "2  [fabulous, leonardo, dicaprio, film, climate, ...   \n",
       "3  [rt, mick, fanning, watched, amazing, document...   \n",
       "4  [rt, cnalive, pranita, biswasi, lutheran, odis...   \n",
       "\n",
       "                                            pos_tags  \n",
       "0  [(tiniebeany, JJ), (climate, NN), (change, NN)...  \n",
       "1  [(rt, JJ), (natgeochannel, NNS), (watch, VBP),...  \n",
       "2  [(fabulous, JJ), (leonardo, NN), (dicaprio, NN...  \n",
       "3  [(rt, NN), (mick, NN), (fanning, VBG), (watche...  \n",
       "4  [(rt, NN), (cnalive, JJ), (pranita, NN), (bisw...  "
      ]
     },
     "execution_count": 12,
     "metadata": {},
     "output_type": "execute_result"
    }
   ],
   "source": [
    "# Display the preprocessed dataframe\n",
    "df.head()"
   ]
  }
 ],
 "metadata": {
  "kernelspec": {
   "display_name": "Python 3",
   "language": "python",
   "name": "python3"
  },
  "language_info": {
   "codemirror_mode": {
    "name": "ipython",
    "version": 3
   },
   "file_extension": ".py",
   "mimetype": "text/x-python",
   "name": "python",
   "nbconvert_exporter": "python",
   "pygments_lexer": "ipython3",
   "version": "3.11.4"
  }
 },
 "nbformat": 4,
 "nbformat_minor": 2
}
